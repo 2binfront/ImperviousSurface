{
 "cells": [
  {
   "cell_type": "markdown",
   "metadata": {},
   "source": [
    "# this is a test"
   ]
  },
  {
   "cell_type": "code",
   "execution_count": 3,
   "metadata": {},
   "outputs": [
    {
     "data": {
      "text/html": [
       "<p>To authorize access needed by Earth Engine, open the following\n",
       "        URL in a web browser and follow the instructions:</p>\n",
       "        <p><a href=https://code.earthengine.google.com/client-auth?scopes=https%3A//www.googleapis.com/auth/earthengine%20https%3A//www.googleapis.com/auth/devstorage.full_control&request_id=XhNZ9e28iL91nmZ6wm132KvhsUyMiBxbkbn-0CmrDbA&tc=h54GwIVT65MAnBTvVxo3tv-8KCcyMmcysVGOo0q1KnM&cc=uPDIWdAfN3botaq4gIvSbJVS6HLL7s86Q3D82AQyWrY>https://code.earthengine.google.com/client-auth?scopes=https%3A//www.googleapis.com/auth/earthengine%20https%3A//www.googleapis.com/auth/devstorage.full_control&request_id=XhNZ9e28iL91nmZ6wm132KvhsUyMiBxbkbn-0CmrDbA&tc=h54GwIVT65MAnBTvVxo3tv-8KCcyMmcysVGOo0q1KnM&cc=uPDIWdAfN3botaq4gIvSbJVS6HLL7s86Q3D82AQyWrY</a></p>\n",
       "        <p>The authorization workflow will generate a code, which you should paste in the box below.</p>\n",
       "        "
      ],
      "text/plain": [
       "<IPython.core.display.HTML object>"
      ]
     },
     "metadata": {},
     "output_type": "display_data"
    },
    {
     "name": "stdout",
     "output_type": "stream",
     "text": [
      "\n",
      "Successfully saved authorization token.\n"
     ]
    }
   ],
   "source": [
    "import ee\n",
    "ee.Authenticate()\n",
    "ee.Initialize()"
   ]
  },
  {
   "cell_type": "code",
   "execution_count": 4,
   "metadata": {},
   "outputs": [
    {
     "data": {
      "application/vnd.jupyter.widget-view+json": {
       "model_id": "1d02cf9f5d8d435c9cb661c489be8972",
       "version_major": 2,
       "version_minor": 0
      },
      "text/plain": [
       "Map(center=[20, 0], controls=(WidgetControl(options=['position', 'transparent_bg'], widget=HBox(children=(Togg…"
      ]
     },
     "metadata": {},
     "output_type": "display_data"
    }
   ],
   "source": [
    "import geemap\n",
    "geemap.set_proxy(port='7890')\n",
    "Map = geemap.Map()\n",
    "Map"
   ]
  },
  {
   "cell_type": "code",
   "execution_count": 5,
   "metadata": {},
   "outputs": [
    {
     "data": {
      "application/vnd.jupyter.widget-view+json": {
       "model_id": "1d02cf9f5d8d435c9cb661c489be8972",
       "version_major": 2,
       "version_minor": 0
      },
      "text/plain": [
       "Map(bottom=675.0, center=[32.1101, 118.957796], controls=(WidgetControl(options=['position', 'transparent_bg']…"
      ]
     },
     "metadata": {},
     "output_type": "display_data"
    }
   ],
   "source": [
    "Map.set_center(118.957796, 32.110100, 5)\n",
    "Map\n"
   ]
  },
  {
   "cell_type": "code",
   "execution_count": 6,
   "metadata": {},
   "outputs": [
    {
     "data": {
      "application/vnd.jupyter.widget-view+json": {
       "model_id": "1d02cf9f5d8d435c9cb661c489be8972",
       "version_major": 2,
       "version_minor": 0
      },
      "text/plain": [
       "Map(bottom=3624.0, center=[32.1101, 118.957796], controls=(WidgetControl(options=['position', 'transparent_bg'…"
      ]
     },
     "metadata": {},
     "output_type": "display_data"
    }
   ],
   "source": [
    "Map.set_center(118.957796, 32.110100, 8)\n",
    "Map"
   ]
  }
 ],
 "metadata": {
  "kernelspec": {
   "display_name": "Python 3.10.8 ('gee')",
   "language": "python",
   "name": "python3"
  },
  "language_info": {
   "codemirror_mode": {
    "name": "ipython",
    "version": 3
   },
   "file_extension": ".py",
   "mimetype": "text/x-python",
   "name": "python",
   "nbconvert_exporter": "python",
   "pygments_lexer": "ipython3",
   "version": "3.10.8"
  },
  "orig_nbformat": 4,
  "vscode": {
   "interpreter": {
    "hash": "760b7c89524f03b45bc8985ee186ad78d7e0c4cb47e2e556873b1503b933c031"
   }
  }
 },
 "nbformat": 4,
 "nbformat_minor": 2
}
