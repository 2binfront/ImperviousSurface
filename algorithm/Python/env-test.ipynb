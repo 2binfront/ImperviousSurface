{
 "cells": [
  {
   "cell_type": "markdown",
   "metadata": {},
   "source": [
    "# this is a test"
   ]
  },
  {
   "cell_type": "code",
   "execution_count": 1,
   "metadata": {},
   "outputs": [
    {
     "data": {
      "text/html": [
       "<p>To authorize access needed by Earth Engine, open the following\n",
       "        URL in a web browser and follow the instructions:</p>\n",
       "        <p><a href=https://code.earthengine.google.com/client-auth?scopes=https%3A//www.googleapis.com/auth/earthengine%20https%3A//www.googleapis.com/auth/devstorage.full_control&request_id=1jy1Siq2dJAzPVjkXGpJiphVcaAqQiP91WJ3F28W6RE&tc=VeENpQp1F69C7ZSwoqPQh9K5MAs1T5xfALi_rbVcp-8&cc=8NtepZD8QYn_x_Z5kqE0tXAm2hJDzDruNBnwj7NEtLk>https://code.earthengine.google.com/client-auth?scopes=https%3A//www.googleapis.com/auth/earthengine%20https%3A//www.googleapis.com/auth/devstorage.full_control&request_id=1jy1Siq2dJAzPVjkXGpJiphVcaAqQiP91WJ3F28W6RE&tc=VeENpQp1F69C7ZSwoqPQh9K5MAs1T5xfALi_rbVcp-8&cc=8NtepZD8QYn_x_Z5kqE0tXAm2hJDzDruNBnwj7NEtLk</a></p>\n",
       "        <p>The authorization workflow will generate a code, which you should paste in the box below.</p>\n",
       "        "
      ],
      "text/plain": [
       "<IPython.core.display.HTML object>"
      ]
     },
     "metadata": {},
     "output_type": "display_data"
    },
    {
     "name": "stdout",
     "output_type": "stream",
     "text": [
      "\n",
      "Successfully saved authorization token.\n"
     ]
    }
   ],
   "source": [
    "import ee\n",
    "ee.Authenticate()\n",
    "ee.Initialize()"
   ]
  },
  {
   "cell_type": "code",
   "execution_count": 2,
   "metadata": {},
   "outputs": [
    {
     "data": {
      "application/vnd.jupyter.widget-view+json": {
       "model_id": "c0112f4aaba64c5bac8d9ba63eab0f9c",
       "version_major": 2,
       "version_minor": 0
      },
      "text/plain": [
       "Map(center=[20, 0], controls=(WidgetControl(options=['position', 'transparent_bg'], widget=HBox(children=(Togg…"
      ]
     },
     "metadata": {},
     "output_type": "display_data"
    }
   ],
   "source": [
    "import geemap\n",
    "geemap.set_proxy(port='7890')\n",
    "Map = geemap.Map()\n",
    "Map"
   ]
  },
  {
   "cell_type": "code",
   "execution_count": 10,
   "metadata": {},
   "outputs": [
    {
     "data": {
      "application/vnd.jupyter.widget-view+json": {
       "model_id": "c0112f4aaba64c5bac8d9ba63eab0f9c",
       "version_major": 2,
       "version_minor": 0
      },
      "text/plain": [
       "Map(bottom=736.0, center=[32.041544, 118.767413], controls=(WidgetControl(options=['position', 'transparent_bg…"
      ]
     },
     "metadata": {},
     "output_type": "display_data"
    }
   ],
   "source": [
    "dataset = ee.Image(\"Tsinghua/FROM-GLC/GAIA/v10\")\n",
    "\n",
    "visualization = {\n",
    "    'bands': ['change_year_index'],\n",
    "    'min': 0.0,\n",
    "    'max': 34.0,\n",
    "    'palette': [\n",
    "        \"014352\", \"1A492C\", \"071EC4\", \"B5CA36\", \"729EAC\", \"8EA5DE\",\n",
    "        \"818991\", \"62A3C3\", \"CCF4FE\", \"74F0B9\", \"32BC55\", \"C72144\",\n",
    "        \"56613B\", \"C14683\", \"C31C25\", \"5F6253\", \"11BF85\", \"A61B26\",\n",
    "        \"99FBC5\", \"188AAA\", \"C2D7F1\", \"B7D9D8\", \"856F96\", \"109C6B\",\n",
    "        \"2DE3F4\", \"9A777D\", \"151796\", \"C033D8\", \"510037\", \"640C21\",\n",
    "        \"31A191\", \"223AB0\", \"B692AC\", \"2DE3F4\",\n",
    "    ]\n",
    "}\n",
    "\n",
    "Map.addLayer(dataset, visualization, \"Change year index\")\n",
    "Map.set_center(118.767413, 32.041544, 9)\n",
    "Map\n"
   ]
  },
  {
   "cell_type": "code",
   "execution_count": 22,
   "metadata": {},
   "outputs": [
    {
     "data": {
      "application/vnd.jupyter.widget-view+json": {
       "model_id": "c97f31ff7ded48ecbfd468d6ef9e59ee",
       "version_major": 2,
       "version_minor": 0
      },
      "text/plain": [
       "Map(bottom=53510.0, center=[32.041544, 118.767413], controls=(WidgetControl(options=['position', 'transparent_…"
      ]
     },
     "metadata": {},
     "output_type": "display_data"
    }
   ],
   "source": [
    "in_geojson = 'https://geo.datav.aliyun.com/areas_v3/bound/320100.json'\n",
    "Map.add_geojson(\n",
    "    in_geojson, layer_name=\"Nanjing  area\", info_mode=\"on_hover\")#metropolitan\n",
    "Map.set_center(118.767413, 32.041544,9)\n",
    "Map\n"
   ]
  },
  {
   "cell_type": "code",
   "execution_count": 12,
   "metadata": {},
   "outputs": [
    {
     "data": {
      "text/plain": [
       "['change_year_index']"
      ]
     },
     "execution_count": 12,
     "metadata": {},
     "output_type": "execute_result"
    }
   ],
   "source": [
    "dataset.bandNames().getInfo()"
   ]
  },
  {
   "cell_type": "code",
   "execution_count": 15,
   "metadata": {},
   "outputs": [
    {
     "name": "stdout",
     "output_type": "stream",
     "text": [
      "320100.json already exists. Skip downloading. Set overwrite=True to overwrite.\n"
     ]
    }
   ],
   "source": [
    "geemap.download_file(in_geojson)\n",
    "area = geemap.geojson_to_ee('./320100.json')"
   ]
  },
  {
   "cell_type": "code",
   "execution_count": 16,
   "metadata": {},
   "outputs": [],
   "source": [
    "target_area = dataset.clip(area.geometry())\n"
   ]
  },
  {
   "cell_type": "code",
   "execution_count": 23,
   "metadata": {},
   "outputs": [
    {
     "data": {
      "application/vnd.jupyter.widget-view+json": {
       "model_id": "c97f31ff7ded48ecbfd468d6ef9e59ee",
       "version_major": 2,
       "version_minor": 0
      },
      "text/plain": [
       "Map(bottom=53510.0, center=[32.041544, 118.767413], controls=(WidgetControl(options=['position', 'transparent_…"
      ]
     },
     "metadata": {},
     "output_type": "display_data"
    }
   ],
   "source": [
    "Map.addLayer(target_area,visualization,'target image')\n",
    "Map.set_center(118.767413, 32.041544,9)\n",
    "Map"
   ]
  }
 ],
 "metadata": {
  "kernelspec": {
   "display_name": "Python 3.10.8 ('gee')",
   "language": "python",
   "name": "python3"
  },
  "language_info": {
   "codemirror_mode": {
    "name": "ipython",
    "version": 3
   },
   "file_extension": ".py",
   "mimetype": "text/x-python",
   "name": "python",
   "nbconvert_exporter": "python",
   "pygments_lexer": "ipython3",
   "version": "3.10.8"
  },
  "orig_nbformat": 4,
  "vscode": {
   "interpreter": {
    "hash": "760b7c89524f03b45bc8985ee186ad78d7e0c4cb47e2e556873b1503b933c031"
   }
  }
 },
 "nbformat": 4,
 "nbformat_minor": 2
}
