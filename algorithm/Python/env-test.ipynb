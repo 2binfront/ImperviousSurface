{
 "cells": [
  {
   "cell_type": "markdown",
   "metadata": {},
   "source": [
    "# this is a test"
   ]
  },
  {
   "cell_type": "code",
   "execution_count": 1,
   "metadata": {},
   "outputs": [
    {
     "data": {
      "text/html": [
       "<p>To authorize access needed by Earth Engine, open the following\n",
       "        URL in a web browser and follow the instructions:</p>\n",
       "        <p><a href=https://code.earthengine.google.com/client-auth?scopes=https%3A//www.googleapis.com/auth/earthengine%20https%3A//www.googleapis.com/auth/devstorage.full_control&request_id=UyVApINC51G4BK8RmBA940EjMxnKEfKvxqIBdKipHHg&tc=CwGv4ZdJYgZSSXU33KVhIYMjnx6YoL5Qbe370v7YVWQ&cc=_M7x8lKOriFFFoNcXTIGERiwxmkkWBbSBkwYKrZlUsA>https://code.earthengine.google.com/client-auth?scopes=https%3A//www.googleapis.com/auth/earthengine%20https%3A//www.googleapis.com/auth/devstorage.full_control&request_id=UyVApINC51G4BK8RmBA940EjMxnKEfKvxqIBdKipHHg&tc=CwGv4ZdJYgZSSXU33KVhIYMjnx6YoL5Qbe370v7YVWQ&cc=_M7x8lKOriFFFoNcXTIGERiwxmkkWBbSBkwYKrZlUsA</a></p>\n",
       "        <p>The authorization workflow will generate a code, which you should paste in the box below.</p>\n",
       "        "
      ],
      "text/plain": [
       "<IPython.core.display.HTML object>"
      ]
     },
     "metadata": {},
     "output_type": "display_data"
    },
    {
     "name": "stdout",
     "output_type": "stream",
     "text": [
      "\n",
      "Successfully saved authorization token.\n"
     ]
    }
   ],
   "source": [
    "import ee\n",
    "ee.Authenticate()\n",
    "ee.Initialize()"
   ]
  },
  {
   "cell_type": "code",
   "execution_count": 2,
   "metadata": {},
   "outputs": [
    {
     "data": {
      "application/vnd.jupyter.widget-view+json": {
       "model_id": "a9617b027ef644b9b2d7620aa3a5d27d",
       "version_major": 2,
       "version_minor": 0
      },
      "text/plain": [
       "Map(center=[20, 0], controls=(WidgetControl(options=['position', 'transparent_bg'], widget=HBox(children=(Togg…"
      ]
     },
     "metadata": {},
     "output_type": "display_data"
    }
   ],
   "source": [
    "import geemap\n",
    "geemap.set_proxy(port='7890')\n",
    "Map = geemap.Map()\n",
    "Map"
   ]
  },
  {
   "cell_type": "code",
   "execution_count": 3,
   "metadata": {},
   "outputs": [
    {
     "data": {
      "application/vnd.jupyter.widget-view+json": {
       "model_id": "a9617b027ef644b9b2d7620aa3a5d27d",
       "version_major": 2,
       "version_minor": 0
      },
      "text/plain": [
       "Map(bottom=754.0, center=[20, 0], controls=(WidgetControl(options=['position', 'transparent_bg'], widget=HBox(…"
      ]
     },
     "metadata": {},
     "output_type": "display_data"
    }
   ],
   "source": [
    "in_geojson = './data.json'\n",
    "Map.add_geojson(\n",
    "    in_geojson, layer_name=\"Nanjing metropolitan area\", info_mode=\"on_hover\")\n",
    "Map\n"
   ]
  },
  {
   "cell_type": "code",
   "execution_count": 12,
   "metadata": {},
   "outputs": [
    {
     "data": {
      "application/vnd.jupyter.widget-view+json": {
       "model_id": "a9617b027ef644b9b2d7620aa3a5d27d",
       "version_major": 2,
       "version_minor": 0
      },
      "text/plain": [
       "Map(bottom=6908.0, center=[25.8, -37.62], controls=(WidgetControl(options=['position', 'transparent_bg'], widg…"
      ]
     },
     "metadata": {},
     "output_type": "display_data"
    }
   ],
   "source": [
    "dataset = ee.Image(\"Tsinghua/FROM-GLC/GAIA/v10\")\n",
    "\n",
    "visualization = {\n",
    "    'bands': ['change_year_index'],\n",
    "    'min': 0.0,\n",
    "    'max': 34.0,\n",
    "    'palette': [\n",
    "        \"014352\", \"1A492C\", \"071EC4\", \"B5CA36\", \"729EAC\", \"8EA5DE\",\n",
    "        \"818991\", \"62A3C3\", \"CCF4FE\", \"74F0B9\", \"32BC55\", \"C72144\",\n",
    "        \"56613B\", \"C14683\", \"C31C25\", \"5F6253\", \"11BF85\", \"A61B26\",\n",
    "        \"99FBC5\", \"188AAA\", \"C2D7F1\", \"B7D9D8\", \"856F96\", \"109C6B\",\n",
    "        \"2DE3F4\", \"9A777D\", \"151796\", \"C033D8\", \"510037\", \"640C21\",\n",
    "        \"31A191\", \"223AB0\", \"B692AC\", \"2DE3F4\",\n",
    "    ]\n",
    "}\n",
    "\n",
    "Map.setCenter(-37.62, 25.8, 2)\n",
    "\n",
    "Map.addLayer(dataset, visualization, \"Change year index\")\n",
    "Map"
   ]
  },
  {
   "cell_type": "code",
   "execution_count": 13,
   "metadata": {},
   "outputs": [
    {
     "data": {
      "text/plain": [
       "['change_year_index']"
      ]
     },
     "execution_count": 13,
     "metadata": {},
     "output_type": "execute_result"
    }
   ],
   "source": [
    "dataset.bandNames().getInfo()"
   ]
  },
  {
   "cell_type": "code",
   "execution_count": 23,
   "metadata": {},
   "outputs": [
    {
     "data": {
      "text/plain": [
       "{'type': 'Image',\n",
       " 'bands': [{'id': 'change_year_index',\n",
       "   'data_type': {'type': 'PixelType',\n",
       "    'precision': 'int',\n",
       "    'min': 0,\n",
       "    'max': 255},\n",
       "   'dimensions': [1335834, 667176],\n",
       "   'crs': 'EPSG:4326',\n",
       "   'crs_transform': [0.00026949458523585647,\n",
       "    0,\n",
       "    -180.00001488697754,\n",
       "    0,\n",
       "    -0.00026949458523585647,\n",
       "    89.90015969965889]}],\n",
       " 'id': 'Tsinghua/FROM-GLC/GAIA/v10',\n",
       " 'version': 1641990733009023,\n",
       " 'properties': {'date_range': [473385600000, 1546214400000],\n",
       "  'period': 0,\n",
       "  'type_name': 'Image',\n",
       "  'keywords': ['built', 'development', 'impervious', 'tsinghua', 'urban'],\n",
       "  'description': '<p>This dataset contains annual change information of global impervious surface area from 1985 to\\n2018 at a 30m resolution. Change from pervious to impervious was determined using a combined\\napproach of supervised classification and temporal consistency checking. Impervious pixels are\\ndefined as above 50% impervious. The year of the transition (from pervious to impervious) can\\nbe identified from the pixel value, ranging from 34 (year: 1985) to 1 (year: 2018). For\\nexample, the impervious surface in 1990 can be revealed as the pixel value greater than 29\\n(see the lookup table). This dataset is temporally consistent, following the conversion from\\npervious (e.g., non-urban) to impervious (e.g., urban) monotonically. For more information\\nabout the mapping approach and assessment, see\\n<a href=\"https://doi.org/10.1016/j.rse.2019.111510\">Annual maps of global artificial impervious area (GAIA) between 1985 and 2018\\n(Gong et al. 2020)</a>.</p><p><b>Provider: <a href=\"http://data.ess.tsinghua.edu.cn/\">Tsinghua University</a></b><br><p><b>Resolution</b><br>30 meters\\n</p><p><b>Bands</b><table class=\"eecat\"><tr><th scope=\"col\">Name</th><th scope=\"col\">Description</th></tr><tr><td>change_year_index</td><td><p>Year of the transition from from pervious to impervious. From 34 (year: 1985) to 1 (year: 2018)</p></td></tr></table><p><b>Terms of Use</b><br><p>This work is licensed under a Creative Commons Attribution 4.0 International License.\\nhttps://creativecommons.org/licenses/by/4.0/</p><p><b>Suggested citation(s)</b><ul><li><p>Gong, P., Li, X., Wang, J., Bai, Y., Chen, B., Hu, T., ... &amp; Zhou, Y. (2020).\\nAnnual maps of global artificial impervious area (GAIA) between 1985 and 2018.\\nRemote Sensing of Environment, 236, 111510.</p></li></ul><style>\\n  table.eecat {\\n  border: 1px solid black;\\n  border-collapse: collapse;\\n  font-size: 13px;\\n  }\\n  table.eecat td, tr, th {\\n  text-align: left; vertical-align: top;\\n  border: 1px solid gray; padding: 3px;\\n  }\\n  td.nobreak { white-space: nowrap; }\\n</style>',\n",
       "  'source_tags': ['tsinghua'],\n",
       "  'visualization_0_max': '34.0',\n",
       "  'provider_url': 'http://data.ess.tsinghua.edu.cn/',\n",
       "  'title': 'Tsinghua FROM-GLC Year of Change to Impervious Surface',\n",
       "  'sample': 'https://mw1.google.com/ges/dd/images/Tsinghua_FROM-GLC_GAIA_v10_sample.png',\n",
       "  'tags': ['built', 'development', 'impervious', 'tsinghua', 'urban'],\n",
       "  'product_tags': ['impervious', 'urban', 'development', 'built'],\n",
       "  'visualization_0_palette': '014352,1A492C,071EC4,B5CA36,729EAC,8EA5DE,818991,62A3C3,CCF4FE,74F0B9,32BC55,C72144,56613B,C14683,C31C25,5F6253,11BF85,A61B26,99FBC5,188AAA,C2D7F1,B7D9D8,856F96,109C6B,2DE3F4,9A777D,151796,C033D8,510037,640C21,31A191,223AB0,B692AC,2DE3F4',\n",
       "  'provider': 'Tsinghua University',\n",
       "  'system:footprint': {'type': 'LinearRing',\n",
       "   'coordinates': [[-180, -90],\n",
       "    [180, -90],\n",
       "    [180, 90],\n",
       "    [-180, 90],\n",
       "    [-180, -90]]},\n",
       "  'visualization_0_min': '0.0',\n",
       "  'system:asset_size': 1814043470,\n",
       "  'visualization_0_name': 'Change year index',\n",
       "  'visualization_0_bands': 'change_year_index'}}"
      ]
     },
     "execution_count": 23,
     "metadata": {},
     "output_type": "execute_result"
    }
   ],
   "source": [
    "dataset.select(0).getInfo()"
   ]
  },
  {
   "cell_type": "code",
   "execution_count": null,
   "metadata": {},
   "outputs": [],
   "source": []
  }
 ],
 "metadata": {
  "kernelspec": {
   "display_name": "Python 3.10.8 ('gee')",
   "language": "python",
   "name": "python3"
  },
  "language_info": {
   "codemirror_mode": {
    "name": "ipython",
    "version": 3
   },
   "file_extension": ".py",
   "mimetype": "text/x-python",
   "name": "python",
   "nbconvert_exporter": "python",
   "pygments_lexer": "ipython3",
   "version": "3.10.8"
  },
  "orig_nbformat": 4,
  "vscode": {
   "interpreter": {
    "hash": "760b7c89524f03b45bc8985ee186ad78d7e0c4cb47e2e556873b1503b933c031"
   }
  }
 },
 "nbformat": 4,
 "nbformat_minor": 2
}
